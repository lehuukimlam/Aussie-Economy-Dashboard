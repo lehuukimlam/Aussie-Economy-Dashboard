{
 "cells": [
  {
   "cell_type": "markdown",
   "metadata": {
    "id": "Sd5QHEFIYkC8"
   },
   "source": [
    "# Project Overview: Australian Economic & Industry Trends Dashboard"
   ]
  },
  {
   "cell_type": "markdown",
   "metadata": {
    "id": "cYFGnons0el5"
   },
   "source": [
    "This project builds an interactive business intelligence dashboard to monitor Australia’s economic performance through key macroeconomic indicators. It targets analysts, policymakers, and decision-makers who need a clear, data-driven view of economic conditions and trends.\n",
    "\n",
    "The project follows the **CRISP-DM framework** to ensure a structured data science approach, while also applying dashboard storytelling and semantic modeling best practices to deliver actionable insights.\n",
    "\n",
    "The final product is a public dashboard hosted on Maven Analytics, supported by a transparent data pipeline built in Google Colab.\n"
   ]
  },
  {
   "cell_type": "markdown",
   "metadata": {
    "id": "jbaiBVD9ZM_p"
   },
   "source": [
    "#1. Business Understanding:"
   ]
  },
  {
   "cell_type": "markdown",
   "metadata": {
    "id": "seTAsHsTZdMT"
   },
   "source": [
    "Explore key macroeconomic indicators (GDP, CPI, unemployment, etc.) to monitor Australia’s economic health and inform public, financial, and policy decisions."
   ]
  },
  {
   "cell_type": "markdown",
   "metadata": {
    "id": "vziTvOvgZidW"
   },
   "source": [
    "#2. Data Understanding:"
   ]
  },
  {
   "cell_type": "markdown",
   "metadata": {
    "id": "kIH7GWOQjYZi"
   },
   "source": [
    "## Data Sources Overview\n",
    "\n",
    "This table lists all selected economic indicators with their official sources and direct download links.\n",
    "\n",
    "| **Metric**                                  | 🏛️ **Source** | 🔗 **Table / Download Link** |\n",
    "|--------------------------------------------|---------------|------------------------------|\n",
    "| **Gross Domestic Product (GDP)**           | ABS           | [Table 2 – Expenditure on GDP (Chain Volume)](https://www.abs.gov.au/statistics/economy/national-accounts/australian-national-accounts-state-accounts/2023-24-financial-year#data-downloads) |\n",
    "| **GDP per Capita**                         | ABS           | [Table 2 – Expenditure on GDP (Chain Volume)](https://www.abs.gov.au/statistics/economy/national-accounts/australian-national-accounts-state-accounts/2023-24-financial-year#data-downloads) |\n",
    "| **Exports of Goods and Services**          | ABS           | [Table 2 – Expenditure on GDP (Chain Volume)](https://www.abs.gov.au/statistics/economy/national-accounts/australian-national-accounts-state-accounts/2023-24-financial-year#data-downloads) |\n",
    "| **Imports of Goods and Services**          | ABS           | [Table 2 – Expenditure on GDP (Chain Volume)](https://www.abs.gov.au/statistics/economy/national-accounts/australian-national-accounts-state-accounts/2023-24-financial-year#data-downloads) |\n",
    "| **Consumer Price Index (CPI - Inflation)** | ABS           | [Table 6401.0 – Consumer Price Index](https://www.abs.gov.au/statistics/economy/price-indexes-and-inflation/consumer-price-index-australia/latest-release#data-downloads) |\n",
    "| **Unemployment Rate**                      | ABS           | [Table 6202.0 – Labour Force, Australia](https://www.abs.gov.au/statistics/labour/employment-and-unemployment/labour-force-australia/latest-release#data-downloads) |\n",
    "| **Cash Rate (Interest Rate)**              | RBA           | [F1 – Official Cash Rate Target (XLS)](https://www.rba.gov.au/statistics/tables/xls/f01hist.xls) / [Web View](https://www.rba.gov.au/statistics/cash-rate) |\n",
    "| **Gross Value Added by Industry (GVA)**    | ABS           | [Table 6 – GVA by Industry (Chain Volume)](https://www.abs.gov.au/statistics/economy/national-accounts/australian-national-accounts-national-income-expenditure-and-product/latest-release#data-downloads) |\n",
    "| **GDP by State (State Accounts)**          | ABS           | [State Accounts Main Page](https://www.abs.gov.au/statistics/economy/national-accounts/australian-national-accounts-state-accounts) |\n"
   ]
  },
  {
   "cell_type": "markdown",
   "metadata": {
    "id": "VrdO7RG71Cun"
   },
   "source": [
    "# 3. Data Cleaning and Preparation:"
   ]
  },
  {
   "cell_type": "markdown",
   "metadata": {
    "id": "fnbIhDMp4ldA"
   },
   "source": [
    "1, Australian Economy Overall\n",
    "\n",
    "Data loading and DATA EXAMINATION"
   ]
  },
  {
   "cell_type": "code",
   "execution_count": 2,
   "metadata": {
    "colab": {
     "base_uri": "https://localhost:8080/",
     "height": 373
    },
    "executionInfo": {
     "elapsed": 1709,
     "status": "error",
     "timestamp": 1754532889971,
     "user": {
      "displayName": "K Lam",
      "userId": "04341386896457537883"
     },
     "user_tz": -600
    },
    "id": "8eb21820",
    "outputId": "6eaf16a0-b194-4d51-f527-be7753112c7a"
   },
   "outputs": [
    {
     "ename": "FileNotFoundError",
     "evalue": "[Errno 2] No such file or directory: '/content/Raw GDP Overall.xlsx'",
     "output_type": "error",
     "traceback": [
      "\u001b[0;31m---------------------------------------------------------------------------\u001b[0m",
      "\u001b[0;31mFileNotFoundError\u001b[0m                         Traceback (most recent call last)",
      "\u001b[0;32m/tmp/ipython-input-3935793734.py\u001b[0m in \u001b[0;36m<cell line: 0>\u001b[0;34m()\u001b[0m\n\u001b[1;32m      2\u001b[0m \u001b[0;34m\u001b[0m\u001b[0m\n\u001b[1;32m      3\u001b[0m \u001b[0;31m# Load the Excel file\u001b[0m\u001b[0;34m\u001b[0m\u001b[0;34m\u001b[0m\u001b[0m\n\u001b[0;32m----> 4\u001b[0;31m \u001b[0mdf_gdp_overall\u001b[0m \u001b[0;34m=\u001b[0m \u001b[0mpd\u001b[0m\u001b[0;34m.\u001b[0m\u001b[0mread_excel\u001b[0m\u001b[0;34m(\u001b[0m\u001b[0;34m\"/content/Raw GDP Overall.xlsx\"\u001b[0m\u001b[0;34m)\u001b[0m\u001b[0;34m\u001b[0m\u001b[0;34m\u001b[0m\u001b[0m\n\u001b[0m\u001b[1;32m      5\u001b[0m \u001b[0;34m\u001b[0m\u001b[0m\n\u001b[1;32m      6\u001b[0m \u001b[0;31m# Display the first few rows of the DataFrame\u001b[0m\u001b[0;34m\u001b[0m\u001b[0;34m\u001b[0m\u001b[0m\n",
      "\u001b[0;32m/usr/local/lib/python3.11/dist-packages/pandas/io/excel/_base.py\u001b[0m in \u001b[0;36mread_excel\u001b[0;34m(io, sheet_name, header, names, index_col, usecols, dtype, engine, converters, true_values, false_values, skiprows, nrows, na_values, keep_default_na, na_filter, verbose, parse_dates, date_parser, date_format, thousands, decimal, comment, skipfooter, storage_options, dtype_backend, engine_kwargs)\u001b[0m\n\u001b[1;32m    493\u001b[0m     \u001b[0;32mif\u001b[0m \u001b[0;32mnot\u001b[0m \u001b[0misinstance\u001b[0m\u001b[0;34m(\u001b[0m\u001b[0mio\u001b[0m\u001b[0;34m,\u001b[0m \u001b[0mExcelFile\u001b[0m\u001b[0;34m)\u001b[0m\u001b[0;34m:\u001b[0m\u001b[0;34m\u001b[0m\u001b[0;34m\u001b[0m\u001b[0m\n\u001b[1;32m    494\u001b[0m         \u001b[0mshould_close\u001b[0m \u001b[0;34m=\u001b[0m \u001b[0;32mTrue\u001b[0m\u001b[0;34m\u001b[0m\u001b[0;34m\u001b[0m\u001b[0m\n\u001b[0;32m--> 495\u001b[0;31m         io = ExcelFile(\n\u001b[0m\u001b[1;32m    496\u001b[0m             \u001b[0mio\u001b[0m\u001b[0;34m,\u001b[0m\u001b[0;34m\u001b[0m\u001b[0;34m\u001b[0m\u001b[0m\n\u001b[1;32m    497\u001b[0m             \u001b[0mstorage_options\u001b[0m\u001b[0;34m=\u001b[0m\u001b[0mstorage_options\u001b[0m\u001b[0;34m,\u001b[0m\u001b[0;34m\u001b[0m\u001b[0;34m\u001b[0m\u001b[0m\n",
      "\u001b[0;32m/usr/local/lib/python3.11/dist-packages/pandas/io/excel/_base.py\u001b[0m in \u001b[0;36m__init__\u001b[0;34m(self, path_or_buffer, engine, storage_options, engine_kwargs)\u001b[0m\n\u001b[1;32m   1548\u001b[0m                 \u001b[0mext\u001b[0m \u001b[0;34m=\u001b[0m \u001b[0;34m\"xls\"\u001b[0m\u001b[0;34m\u001b[0m\u001b[0;34m\u001b[0m\u001b[0m\n\u001b[1;32m   1549\u001b[0m             \u001b[0;32melse\u001b[0m\u001b[0;34m:\u001b[0m\u001b[0;34m\u001b[0m\u001b[0;34m\u001b[0m\u001b[0m\n\u001b[0;32m-> 1550\u001b[0;31m                 ext = inspect_excel_format(\n\u001b[0m\u001b[1;32m   1551\u001b[0m                     \u001b[0mcontent_or_path\u001b[0m\u001b[0;34m=\u001b[0m\u001b[0mpath_or_buffer\u001b[0m\u001b[0;34m,\u001b[0m \u001b[0mstorage_options\u001b[0m\u001b[0;34m=\u001b[0m\u001b[0mstorage_options\u001b[0m\u001b[0;34m\u001b[0m\u001b[0;34m\u001b[0m\u001b[0m\n\u001b[1;32m   1552\u001b[0m                 )\n",
      "\u001b[0;32m/usr/local/lib/python3.11/dist-packages/pandas/io/excel/_base.py\u001b[0m in \u001b[0;36minspect_excel_format\u001b[0;34m(content_or_path, storage_options)\u001b[0m\n\u001b[1;32m   1400\u001b[0m         \u001b[0mcontent_or_path\u001b[0m \u001b[0;34m=\u001b[0m \u001b[0mBytesIO\u001b[0m\u001b[0;34m(\u001b[0m\u001b[0mcontent_or_path\u001b[0m\u001b[0;34m)\u001b[0m\u001b[0;34m\u001b[0m\u001b[0;34m\u001b[0m\u001b[0m\n\u001b[1;32m   1401\u001b[0m \u001b[0;34m\u001b[0m\u001b[0m\n\u001b[0;32m-> 1402\u001b[0;31m     with get_handle(\n\u001b[0m\u001b[1;32m   1403\u001b[0m         \u001b[0mcontent_or_path\u001b[0m\u001b[0;34m,\u001b[0m \u001b[0;34m\"rb\"\u001b[0m\u001b[0;34m,\u001b[0m \u001b[0mstorage_options\u001b[0m\u001b[0;34m=\u001b[0m\u001b[0mstorage_options\u001b[0m\u001b[0;34m,\u001b[0m \u001b[0mis_text\u001b[0m\u001b[0;34m=\u001b[0m\u001b[0;32mFalse\u001b[0m\u001b[0;34m\u001b[0m\u001b[0;34m\u001b[0m\u001b[0m\n\u001b[1;32m   1404\u001b[0m     ) as handle:\n",
      "\u001b[0;32m/usr/local/lib/python3.11/dist-packages/pandas/io/common.py\u001b[0m in \u001b[0;36mget_handle\u001b[0;34m(path_or_buf, mode, encoding, compression, memory_map, is_text, errors, storage_options)\u001b[0m\n\u001b[1;32m    880\u001b[0m         \u001b[0;32melse\u001b[0m\u001b[0;34m:\u001b[0m\u001b[0;34m\u001b[0m\u001b[0;34m\u001b[0m\u001b[0m\n\u001b[1;32m    881\u001b[0m             \u001b[0;31m# Binary mode\u001b[0m\u001b[0;34m\u001b[0m\u001b[0;34m\u001b[0m\u001b[0m\n\u001b[0;32m--> 882\u001b[0;31m             \u001b[0mhandle\u001b[0m \u001b[0;34m=\u001b[0m \u001b[0mopen\u001b[0m\u001b[0;34m(\u001b[0m\u001b[0mhandle\u001b[0m\u001b[0;34m,\u001b[0m \u001b[0mioargs\u001b[0m\u001b[0;34m.\u001b[0m\u001b[0mmode\u001b[0m\u001b[0;34m)\u001b[0m\u001b[0;34m\u001b[0m\u001b[0;34m\u001b[0m\u001b[0m\n\u001b[0m\u001b[1;32m    883\u001b[0m         \u001b[0mhandles\u001b[0m\u001b[0;34m.\u001b[0m\u001b[0mappend\u001b[0m\u001b[0;34m(\u001b[0m\u001b[0mhandle\u001b[0m\u001b[0;34m)\u001b[0m\u001b[0;34m\u001b[0m\u001b[0;34m\u001b[0m\u001b[0m\n\u001b[1;32m    884\u001b[0m \u001b[0;34m\u001b[0m\u001b[0m\n",
      "\u001b[0;31mFileNotFoundError\u001b[0m: [Errno 2] No such file or directory: '/content/Raw GDP Overall.xlsx'"
     ]
    }
   ],
   "source": [
    "import pandas as pd\n",
    "\n",
    "# Load the Excel file\n",
    "df_gdp_overall = pd.read_excel(\"/content/Raw GDP Overall.xlsx\")\n",
    "\n",
    "# Display the first few rows of the DataFrame\n",
    "print(\"First 5 rows of the DataFrame:\")\n",
    "display(df_gdp_overall.head())\n",
    "\n",
    "# Display the column names and their data types\n",
    "print(\"\\nColumn information:\")\n",
    "display(df_gdp_overall.info())"
   ]
  },
  {
   "cell_type": "markdown",
   "metadata": {
    "id": "H8w4MVBK910z"
   },
   "source": [
    "NORMALIZATION - fact overview table"
   ]
  },
  {
   "cell_type": "code",
   "execution_count": null,
   "metadata": {
    "executionInfo": {
     "elapsed": 66,
     "status": "aborted",
     "timestamp": 1754532890029,
     "user": {
      "displayName": "K Lam",
      "userId": "04341386896457537883"
     },
     "user_tz": -600
    },
    "id": "2fde6ba6"
   },
   "outputs": [],
   "source": [
    "# Remove the first 10 rows (0-9) which contain metadata from df_gdp_overall\n",
    "df_gdp_fact_data = df_gdp_overall.iloc[10:].copy()\n",
    "\n",
    "# The date information is in the first column ('Unnamed: 0')\n",
    "date_column = df_gdp_fact_data['Unnamed: 0']\n",
    "\n",
    "# Select the indicator columns (all columns except the first one)\n",
    "indicator_columns = df_gdp_fact_data.columns[1:]\n",
    "\n",
    "# Melt the DataFrame to long format, using the date column as id_vars\n",
    "df_gdp_fact_normalized = df_gdp_fact_data.melt(\n",
    "    id_vars=['Unnamed: 0'],\n",
    "    value_vars=indicator_columns,\n",
    "    var_name='IndicatorID', # Use the original column name as IndicatorID for now\n",
    "    value_name='Value'\n",
    ")\n",
    "\n",
    "# Rename the date column\n",
    "df_gdp_fact_normalized = df_gdp_fact_normalized.rename(columns={'Unnamed: 0': 'Date'})\n",
    "\n",
    "# Display the first few rows of the normalized GDP fact table\n",
    "print(\"\\nFirst 5 rows of the normalized GDP fact table:\")\n",
    "display(df_gdp_fact_normalized.head())\n",
    "\n",
    "# Display the column names and their data types of the normalized GDP fact table\n",
    "print(\"\\nColumn information of the normalized GDP fact table:\")\n",
    "display(df_gdp_fact_normalized.info())"
   ]
  },
  {
   "cell_type": "markdown",
   "metadata": {
    "id": "zGtdACN4U8d8"
   },
   "source": [
    "Data Preparation"
   ]
  },
  {
   "cell_type": "code",
   "execution_count": null,
   "metadata": {
    "executionInfo": {
     "elapsed": 68,
     "status": "aborted",
     "timestamp": 1754532890038,
     "user": {
      "displayName": "K Lam",
      "userId": "04341386896457537883"
     },
     "user_tz": -600
    },
    "id": "3b96a8f9"
   },
   "outputs": [],
   "source": [
    "# Recheck data types\n",
    "print(\"Data types before cleaning:\")\n",
    "display(df_gdp_fact_normalized.dtypes)\n",
    "\n",
    "# Convert 'Date' column to datetime objects\n",
    "df_gdp_fact_normalized['Date'] = pd.to_datetime(df_gdp_fact_normalized['Date'], errors='coerce')\n",
    "\n",
    "# Convert 'Value' column to numeric (float), coercing errors will turn invalid parsing into NaN\n",
    "df_gdp_fact_normalized['Value'] = pd.to_numeric(df_gdp_fact_normalized['Value'], errors='coerce')\n",
    "\n",
    "# Ensure 'IndicatorID' is of string type\n",
    "df_gdp_fact_normalized['IndicatorID'] = df_gdp_fact_normalized['IndicatorID'].astype(str)\n",
    "\n",
    "\n",
    "# Recheck data types after conversion\n",
    "print(\"\\nData types after cleaning:\")\n",
    "display(df_gdp_fact_normalized.dtypes)\n",
    "\n",
    "# Check for null values in the 'Value' column\n",
    "print(\"\\nNumber of null values in the 'Value' column:\")\n",
    "display(df_gdp_fact_normalized['Value'].isnull().sum())\n",
    "\n",
    "# Display the first few rows to see the cleaned data\n",
    "print(\"\\nFirst 5 rows of the cleaned DataFrame:\")\n",
    "display(df_gdp_fact_normalized.head())"
   ]
  },
  {
   "cell_type": "markdown",
   "metadata": {
    "id": "VZrO30kGVMr8"
   },
   "source": [
    "Add id"
   ]
  },
  {
   "cell_type": "code",
   "execution_count": null,
   "metadata": {
    "executionInfo": {
     "elapsed": 2193,
     "status": "aborted",
     "timestamp": 1754532890264,
     "user": {
      "displayName": "K Lam",
      "userId": "04341386896457537883"
     },
     "user_tz": -600
    },
    "id": "4f832c3a"
   },
   "outputs": [],
   "source": [
    "# Reset df_gdp_fact_normalized to its state after normalization (from cell 2fde6ba6 output)\n",
    "# This assumes the output of cell 2fde6ba6 is the correct starting point.\n",
    "# If the notebook state is not as expected, this might need adjustment.\n",
    "\n",
    "# Re-perform the normalization steps to get the correct starting DataFrame\n",
    "df_gdp_fact_data = df_gdp_overall.iloc[10:].copy()\n",
    "indicator_columns = df_gdp_fact_data.columns[1:]\n",
    "df_gdp_fact_normalized = df_gdp_fact_data.melt(\n",
    "    id_vars=['Unnamed: 0'],\n",
    "    value_vars=indicator_columns,\n",
    "    var_name='IndicatorName_original', # Use a temporary name for original indicator names\n",
    "    value_name='Value'\n",
    ")\n",
    "df_gdp_fact_normalized = df_gdp_fact_normalized.rename(columns={'Unnamed: 0': 'Date'})\n",
    "\n",
    "# Create a mapping from unique Indicator Names to numerical IDs\n",
    "unique_indicator_names = df_gdp_fact_normalized['IndicatorName_original'].unique()\n",
    "indicator_id_map = {name: i + 1 for i, name in enumerate(unique_indicator_names)}\n",
    "\n",
    "# Add the new 'IndicatorID' column based on the mapping\n",
    "df_gdp_fact_normalized['IndicatorID'] = df_gdp_fact_normalized['IndicatorName_original'].map(indicator_id_map)\n",
    "\n",
    "# Rename the original indicator name column to 'Indicator Name' and remove semicolons\n",
    "df_gdp_fact_normalized = df_gdp_fact_normalized.rename(columns={'IndicatorName_original': 'Indicator Name'})\n",
    "df_gdp_fact_normalized['Indicator Name'] = df_gdp_fact_normalized['Indicator Name'].str.replace(';', '', regex=False).str.strip()\n",
    "\n",
    "\n",
    "# Reorder columns to have Date, IndicatorID, Indicator Name, Value\n",
    "df_gdp_fact_normalized = df_gdp_fact_normalized[['Date', 'IndicatorID', 'Indicator Name', 'Value']]\n",
    "\n",
    "# Display the first few rows to see the changes\n",
    "print(\"First 5 rows of the DataFrame after adding numerical IndicatorID, renaming and cleaning Indicator Name:\")\n",
    "display(df_gdp_fact_normalized.head())\n",
    "\n",
    "# Display the column names and their data types to confirm changes\n",
    "print(\"\\nColumn information after changes:\")\n",
    "display(df_gdp_fact_normalized.info())"
   ]
  },
  {
   "cell_type": "code",
   "execution_count": null,
   "metadata": {
    "executionInfo": {
     "elapsed": 2194,
     "status": "aborted",
     "timestamp": 1754532890266,
     "user": {
      "displayName": "K Lam",
      "userId": "04341386896457537883"
     },
     "user_tz": -600
    },
    "id": "vEWhcJ7hTwXW"
   },
   "outputs": [],
   "source": []
  },
  {
   "cell_type": "markdown",
   "metadata": {
    "id": "5WdHFuatam9X"
   },
   "source": [
    "Create DIM TABLE - dim on indicator info table"
   ]
  },
  {
   "cell_type": "code",
   "execution_count": null,
   "metadata": {
    "executionInfo": {
     "elapsed": 2193,
     "status": "aborted",
     "timestamp": 1754532890268,
     "user": {
      "displayName": "K Lam",
      "userId": "04341386896457537883"
     },
     "user_tz": -600
    },
    "id": "ea55fc81"
   },
   "outputs": [],
   "source": [
    "# Extract the first 10 rows as metadata\n",
    "df_metadata = df_gdp_overall.iloc[:10].copy()\n",
    "\n",
    "# Transpose the metadata DataFrame\n",
    "df_metadata_transposed = df_metadata.transpose().reset_index(drop=True)\n",
    "\n",
    "# Rename the first row as column headers\n",
    "df_metadata_transposed.columns = df_metadata_transposed.iloc[0]\n",
    "df_metadata_transposed = df_metadata_transposed[1:].copy()\n",
    "\n",
    "# Rename the first column to 'Indicator Name' and clean up semicolons and spaces\n",
    "df_metadata_transposed = df_metadata_transposed.rename(columns={df_metadata_transposed.columns[0]: 'Indicator Name'})\n",
    "df_metadata_transposed['Indicator Name'] = df_metadata_transposed['Indicator Name'].str.replace(';', '', regex=False).str.strip()\n",
    "\n",
    "# Create a mapping from cleaned Indicator Names to numerical IDs\n",
    "unique_indicator_names_cleaned = df_metadata_transposed['Indicator Name'].unique()\n",
    "indicator_name_to_id_map = {name: i + 1 for i, name in enumerate(unique_indicator_names_cleaned)}\n",
    "\n",
    "# Add the 'IndicatorID' column to the transposed metadata DataFrame\n",
    "df_metadata_transposed['IndicatorID'] = df_metadata_transposed['Indicator Name'].map(indicator_name_to_id_map)\n",
    "\n",
    "# Print the columns of the transposed metadata to identify the correct column names\n",
    "print(\"Columns available in transposed metadata:\")\n",
    "print(df_metadata_transposed.columns)\n",
    "\n",
    "# Define the dimension table with the correct column names\n",
    "# Based on the print output above, correct the column names if necessary.\n",
    "# The column that was expected to be 'Unit' appears to be named 'Indicator Name' in the transposed dataframe, and other columns are as expected.\n",
    "dim_table = df_metadata_transposed[['IndicatorID', 'Indicator Name', 'Series Type', 'Data Type', 'Frequency', 'Collection Month', 'Series Start', 'Series End', 'No. Obs']].copy()\n",
    "\n",
    "# Display the first few rows of the dimension table\n",
    "print(\"\\nFirst 5 rows of the dimension table:\")\n",
    "display(dim_table.head())\n",
    "\n",
    "# Display the column names and their data types of the dimension table\n",
    "print(\"\\nColumn information of the dimension table:\")\n",
    "display(dim_table.info())"
   ]
  },
  {
   "cell_type": "markdown",
   "metadata": {
    "id": "So8XWkKLXxbT"
   },
   "source": [
    "Exports as csv"
   ]
  },
  {
   "cell_type": "code",
   "execution_count": null,
   "metadata": {
    "executionInfo": {
     "elapsed": 2200,
     "status": "aborted",
     "timestamp": 1754532890275,
     "user": {
      "displayName": "K Lam",
      "userId": "04341386896457537883"
     },
     "user_tz": -600
    },
    "id": "0519e9f8"
   },
   "outputs": [],
   "source": [
    "# Export the fact table to a CSV file\n",
    "df_gdp_fact_normalized.to_csv('gdp_fact_table.csv', index=False)\n",
    "print(\"Fact table exported to 'gdp_fact_table.csv'\")\n",
    "\n",
    "# Export the dimension table to a CSV file\n",
    "dim_table.to_csv('gdp_dim_table.csv', index=False)\n",
    "print(\"Dimension table exported to 'gdp_dim_table.csv'\")"
   ]
  }
 ],
 "metadata": {
  "colab": {
   "authorship_tag": "ABX9TyMA5TyGNXxerCtjItgvkwjl",
   "provenance": []
  },
  "kernelspec": {
   "display_name": "Python 3",
   "name": "python3"
  },
  "language_info": {
   "name": "python"
  }
 },
 "nbformat": 4,
 "nbformat_minor": 0
}
