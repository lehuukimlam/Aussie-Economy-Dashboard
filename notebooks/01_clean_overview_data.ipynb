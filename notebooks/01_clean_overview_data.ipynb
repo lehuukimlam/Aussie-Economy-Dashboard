{
 "cells": [
  {
   "cell_type": "code",
   "execution_count": null,
   "metadata": {
    "id": "ZxLZvmA3Tv5u"
   },
   "outputs": [],
   "source": [
    "import pandas as pd\n",
    "\n",
    "# Load the Excel file\n",
    "df_gdp_overall = pd.read_excel(\"/content/Raw GDP Overall.xlsx\")\n",
    "\n",
    "# Display the first few rows of the DataFrame\n",
    "print(\"First 5 rows of the DataFrame:\")\n",
    "display(df_gdp_overall.head())\n",
    "\n",
    "# Display the column names and their data types\n",
    "print(\"\\nColumn information:\")\n",
    "display(df_gdp_overall.info())"
   ]
  },
  {
   "cell_type": "code",
   "execution_count": null,
   "metadata": {
    "id": "2fde6ba6"
   },
   "outputs": [],
   "source": [
    "# Remove the first 10 rows (0-9) which contain metadata from df_gdp_overall\n",
    "df_gdp_fact_data = df_gdp_overall.iloc[10:].copy()\n",
    "\n",
    "# The date information is in the first column ('Unnamed: 0')\n",
    "date_column = df_gdp_fact_data['Unnamed: 0']\n",
    "\n",
    "# Select the indicator columns (all columns except the first one)\n",
    "indicator_columns = df_gdp_fact_data.columns[1:]\n",
    "\n",
    "# Melt the DataFrame to long format, using the date column as id_vars\n",
    "df_gdp_fact_normalized = df_gdp_fact_data.melt(\n",
    "    id_vars=['Unnamed: 0'],\n",
    "    value_vars=indicator_columns,\n",
    "    var_name='IndicatorID', # Use the original column name as IndicatorID for now\n",
    "    value_name='Value'\n",
    ")\n",
    "\n",
    "# Rename the date column\n",
    "df_gdp_fact_normalized = df_gdp_fact_normalized.rename(columns={'Unnamed: 0': 'Date'})\n",
    "\n",
    "# Display the first few rows of the normalized GDP fact table\n",
    "print(\"\\nFirst 5 rows of the normalized GDP fact table:\")\n",
    "display(df_gdp_fact_normalized.head())\n",
    "\n",
    "# Display the column names and their data types of the normalized GDP fact table\n",
    "print(\"\\nColumn information of the normalized GDP fact table:\")\n",
    "display(df_gdp_fact_normalized.info())"
   ]
  },
  {
   "cell_type": "code",
   "execution_count": null,
   "metadata": {
    "id": "3b96a8f9"
   },
   "outputs": [],
   "source": [
    "# Recheck data types\n",
    "print(\"Data types before cleaning:\")\n",
    "display(df_gdp_fact_normalized.dtypes)\n",
    "\n",
    "# Convert 'Date' column to datetime objects\n",
    "df_gdp_fact_normalized['Date'] = pd.to_datetime(df_gdp_fact_normalized['Date'], errors='coerce')\n",
    "\n",
    "# Convert 'Value' column to numeric (float), coercing errors will turn invalid parsing into NaN\n",
    "df_gdp_fact_normalized['Value'] = pd.to_numeric(df_gdp_fact_normalized['Value'], errors='coerce')\n",
    "\n",
    "# Ensure 'IndicatorID' is of string type\n",
    "df_gdp_fact_normalized['IndicatorID'] = df_gdp_fact_normalized['IndicatorID'].astype(str)\n",
    "\n",
    "\n",
    "# Recheck data types after conversion\n",
    "print(\"\\nData types after cleaning:\")\n",
    "display(df_gdp_fact_normalized.dtypes)\n",
    "\n",
    "# Check for null values in the 'Value' column\n",
    "print(\"\\nNumber of null values in the 'Value' column:\")\n",
    "display(df_gdp_fact_normalized['Value'].isnull().sum())\n",
    "\n",
    "# Display the first few rows to see the cleaned data\n",
    "print(\"\\nFirst 5 rows of the cleaned DataFrame:\")\n",
    "display(df_gdp_fact_normalized.head())"
   ]
  },
  {
   "cell_type": "code",
   "execution_count": null,
   "metadata": {
    "id": "4f832c3a"
   },
   "outputs": [],
   "source": [
    "# Reset df_gdp_fact_normalized to its state after normalization (from cell 2fde6ba6 output)\n",
    "# This assumes the output of cell 2fde6ba6 is the correct starting point.\n",
    "# If the notebook state is not as expected, this might need adjustment.\n",
    "\n",
    "# Re-perform the normalization steps to get the correct starting DataFrame\n",
    "df_gdp_fact_data = df_gdp_overall.iloc[10:].copy()\n",
    "indicator_columns = df_gdp_fact_data.columns[1:]\n",
    "df_gdp_fact_normalized = df_gdp_fact_data.melt(\n",
    "    id_vars=['Unnamed: 0'],\n",
    "    value_vars=indicator_columns,\n",
    "    var_name='IndicatorName_original', # Use a temporary name for original indicator names\n",
    "    value_name='Value'\n",
    ")\n",
    "df_gdp_fact_normalized = df_gdp_fact_normalized.rename(columns={'Unnamed: 0': 'Date'})\n",
    "\n",
    "# Create a mapping from unique Indicator Names to numerical IDs\n",
    "unique_indicator_names = df_gdp_fact_normalized['IndicatorName_original'].unique()\n",
    "indicator_id_map = {name: i + 1 for i, name in enumerate(unique_indicator_names)}\n",
    "\n",
    "# Add the new 'IndicatorID' column based on the mapping\n",
    "df_gdp_fact_normalized['IndicatorID'] = df_gdp_fact_normalized['IndicatorName_original'].map(indicator_id_map)\n",
    "\n",
    "# Rename the original indicator name column to 'Indicator Name' and remove semicolons\n",
    "df_gdp_fact_normalized = df_gdp_fact_normalized.rename(columns={'IndicatorName_original': 'Indicator Name'})\n",
    "df_gdp_fact_normalized['Indicator Name'] = df_gdp_fact_normalized['Indicator Name'].str.replace(';', '', regex=False).str.strip()\n",
    "\n",
    "\n",
    "# Reorder columns to have Date, IndicatorID, Indicator Name, Value\n",
    "df_gdp_fact_normalized = df_gdp_fact_normalized[['Date', 'IndicatorID', 'Indicator Name', 'Value']]\n",
    "\n",
    "# Display the first few rows to see the changes\n",
    "print(\"First 5 rows of the DataFrame after adding numerical IndicatorID, renaming and cleaning Indicator Name:\")\n",
    "display(df_gdp_fact_normalized.head())\n",
    "\n",
    "# Display the column names and their data types to confirm changes\n",
    "print(\"\\nColumn information after changes:\")\n",
    "display(df_gdp_fact_normalized.info())"
   ]
  },
  {
   "cell_type": "code",
   "execution_count": null,
   "metadata": {
    "id": "ea55fc81"
   },
   "outputs": [],
   "source": [
    "# Extract the first 10 rows as metadata\n",
    "df_metadata = df_gdp_overall.iloc[:10].copy()\n",
    "\n",
    "# Transpose the metadata DataFrame\n",
    "df_metadata_transposed = df_metadata.transpose().reset_index(drop=True)\n",
    "\n",
    "# Rename the first row as column headers\n",
    "df_metadata_transposed.columns = df_metadata_transposed.iloc[0]\n",
    "df_metadata_transposed = df_metadata_transposed[1:].copy()\n",
    "\n",
    "# Rename the first column to 'Indicator Name' and clean up semicolons and spaces\n",
    "df_metadata_transposed = df_metadata_transposed.rename(columns={df_metadata_transposed.columns[0]: 'Indicator Name'})\n",
    "df_metadata_transposed['Indicator Name'] = df_metadata_transposed['Indicator Name'].str.replace(';', '', regex=False).str.strip()\n",
    "\n",
    "# Create a mapping from cleaned Indicator Names to numerical IDs\n",
    "unique_indicator_names_cleaned = df_metadata_transposed['Indicator Name'].unique()\n",
    "indicator_name_to_id_map = {name: i + 1 for i, name in enumerate(unique_indicator_names_cleaned)}\n",
    "\n",
    "# Add the 'IndicatorID' column to the transposed metadata DataFrame\n",
    "df_metadata_transposed['IndicatorID'] = df_metadata_transposed['Indicator Name'].map(indicator_name_to_id_map)\n",
    "\n",
    "# Print the columns of the transposed metadata to identify the correct column names\n",
    "print(\"Columns available in transposed metadata:\")\n",
    "print(df_metadata_transposed.columns)\n",
    "\n",
    "# Define the dimension table with the correct column names\n",
    "# Based on the print output above, correct the column names if necessary.\n",
    "# The column that was expected to be 'Unit' appears to be named 'Indicator Name' in the transposed dataframe, and other columns are as expected.\n",
    "dim_table = df_metadata_transposed[['IndicatorID', 'Indicator Name', 'Series Type', 'Data Type', 'Frequency', 'Collection Month', 'Series Start', 'Series End', 'No. Obs']].copy()\n",
    "\n",
    "# Display the first few rows of the dimension table\n",
    "print(\"\\nFirst 5 rows of the dimension table:\")\n",
    "display(dim_table.head())\n",
    "\n",
    "# Display the column names and their data types of the dimension table\n",
    "print(\"\\nColumn information of the dimension table:\")\n",
    "display(dim_table.info())"
   ]
  },
  {
   "cell_type": "code",
   "execution_count": null,
   "metadata": {
    "id": "0519e9f8"
   },
   "outputs": [],
   "source": [
    "# Export the fact table to a CSV file\n",
    "df_gdp_fact_normalized.to_csv('gdp_fact_table.csv', index=False)\n",
    "print(\"Fact table exported to 'gdp_fact_table.csv'\")\n",
    "\n",
    "# Export the dimension table to a CSV file\n",
    "dim_table.to_csv('gdp_dim_table.csv', index=False)\n",
    "print(\"Dimension table exported to 'gdp_dim_table.csv'\")"
   ]
  }
 ],
 "metadata": {
  "colab": {
   "authorship_tag": "ABX9TyPOm1/y9eU30fSXjmc8BHSN",
   "provenance": []
  },
  "kernelspec": {
   "display_name": "Python 3",
   "name": "python3"
  },
  "language_info": {
   "name": "python"
  }
 },
 "nbformat": 4,
 "nbformat_minor": 0
}
