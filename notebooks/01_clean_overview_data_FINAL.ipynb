{
 "cells": [
  {
   "cell_type": "code",
   "execution_count": null,
   "id": "84d5dc07",
   "metadata": {},
   "outputs": [],
   "source": [
    "# Remove the first 10 rows (0-9) which contain metadata from df_gdp_overall\n",
    "df_gdp_fact_data = df_gdp_overall.iloc[10:].copy()\n",
    "date_column = df_gdp_fact_data['Unnamed: 0']\n",
    "indicator_columns = df_gdp_fact_data.columns[1:]\n",
    "df_gdp_fact_normalized = df_gdp_fact_data.melt(\n",
    "    id_vars=['Unnamed: 0'],\n",
    "    value_vars=indicator_columns,\n",
    "    var_name='IndicatorID',\n",
    "    value_name='Value'\n",
    ")\n",
    "df_gdp_fact_normalized = df_gdp_fact_normalized.rename(columns={'Unnamed: 0': 'Date'})\n",
    "display(df_gdp_fact_normalized.head())"
   ]
  },
  {
   "cell_type": "code",
   "execution_count": null,
   "id": "d0232ed4",
   "metadata": {},
   "outputs": [],
   "source": [
    "# Clean and convert types\n",
    "df_gdp_fact_normalized['Date'] = pd.to_datetime(df_gdp_fact_normalized['Date'], errors='coerce')\n",
    "df_gdp_fact_normalized['Value'] = pd.to_numeric(df_gdp_fact_normalized['Value'], errors='coerce')\n",
    "df_gdp_fact_normalized['IndicatorID'] = df_gdp_fact_normalized['IndicatorID'].astype(str)\n",
    "display(df_gdp_fact_normalized.info())"
   ]
  },
  {
   "cell_type": "code",
   "execution_count": null,
   "id": "d44e9629",
   "metadata": {},
   "outputs": [],
   "source": [
    "# Recreate indicator mapping\n",
    "df_gdp_fact_data = df_gdp_overall.iloc[10:].copy()\n",
    "indicator_columns = df_gdp_fact_data.columns[1:]\n",
    "df_gdp_fact_normalized = df_gdp_fact_data.melt(\n",
    "    id_vars=['Unnamed: 0'],\n",
    "    value_vars=indicator_columns,\n",
    "    var_name='IndicatorName_original',\n",
    "    value_name='Value'\n",
    ")\n",
    "df_gdp_fact_normalized = df_gdp_fact_normalized.rename(columns={'Unnamed: 0': 'Date'})\n",
    "unique_indicator_names = df_gdp_fact_normalized['IndicatorName_original'].unique()\n",
    "indicator_id_map = {name: i + 1 for i, name in enumerate(unique_indicator_names)}\n",
    "df_gdp_fact_normalized['IndicatorID'] = df_gdp_fact_normalized['IndicatorName_original'].map(indicator_id_map)\n",
    "df_gdp_fact_normalized = df_gdp_fact_normalized.rename(columns={'IndicatorName_original': 'Indicator Name'})\n",
    "df_gdp_fact_normalized['Indicator Name'] = df_gdp_fact_normalized['Indicator Name'].str.replace(';', '', regex=False).str.strip()\n",
    "df_gdp_fact_normalized = df_gdp_fact_normalized[['Date', 'IndicatorID', 'Indicator Name', 'Value']]\n",
    "display(df_gdp_fact_normalized.head())"
   ]
  },
  {
   "cell_type": "code",
   "execution_count": null,
   "id": "4aa2a2b3",
   "metadata": {},
   "outputs": [],
   "source": [
    "# Extract metadata rows\n",
    "df_metadata = df_gdp_overall.iloc[:10].copy()\n",
    "df_metadata_transposed = df_metadata.transpose().reset_index(drop=True)\n",
    "df_metadata_transposed.columns = df_metadata_transposed.iloc[0]\n",
    "df_metadata_transposed = df_metadata_transposed[1:].copy()\n",
    "df_metadata_transposed = df_metadata_transposed.rename(columns={df_metadata_transposed.columns[0]: 'Indicator Name'})\n",
    "df_metadata_transposed['Indicator Name'] = df_metadata_transposed['Indicator Name'].str.replace(';', '', regex=False).str.strip()\n",
    "unique_indicator_names_cleaned = df_metadata_transposed['Indicator Name'].unique()\n",
    "indicator_name_to_id_map = {name: i + 1 for i, name in enumerate(unique_indicator_names_cleaned)}\n",
    "df_metadata_transposed['IndicatorID'] = df_metadata_transposed['Indicator Name'].map(indicator_name_to_id_map)\n",
    "dim_table = df_metadata_transposed[['IndicatorID', 'Indicator Name', 'Series Type', 'Data Type', 'Frequency', 'Collection Month', 'Series Start', 'Series End', 'No. Obs']].copy()\n",
    "display(dim_table.head())"
   ]
  },
  {
   "cell_type": "code",
   "execution_count": null,
   "id": "8e10cfa9",
   "metadata": {},
   "outputs": [],
   "source": [
    "# Export both tables\n",
    "df_gdp_fact_normalized.to_csv('gdp_fact_table.csv', index=False)\n",
    "dim_table.to_csv('gdp_dim_table.csv', index=False)\n",
    "print('Exports complete.')"
   ]
  }
 ],
 "metadata": {},
 "nbformat": 4,
 "nbformat_minor": 5
}
